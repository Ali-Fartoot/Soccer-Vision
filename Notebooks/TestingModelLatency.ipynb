{
 "cells": [
  {
   "cell_type": "code",
   "execution_count": 1,
   "id": "e7313184",
   "metadata": {},
   "outputs": [],
   "source": [
    "import torch\n",
    "import onnxruntime\n",
    "from super_gradients.training import models\n",
    "\n",
    "latency = {}"
   ]
  },
  {
   "cell_type": "markdown",
   "id": "e2caa99a",
   "metadata": {},
   "source": [
    "# Yolo nas l"
   ]
  },
  {
   "cell_type": "code",
   "execution_count": 2,
   "id": "c36d5f72",
   "metadata": {},
   "outputs": [],
   "source": [
    "def yolonasl():\n",
    "    net = models.get(\"yolo_nas_l\", num_classes=4, checkpoint_path=\"../SoccerVision/Models/yolo_nas_l/ckpt_best.pth\")\n",
    "    return net.to(\"cuda\").predict(\"../test/foo.jpg\")"
   ]
  },
  {
   "cell_type": "code",
   "execution_count": 3,
   "id": "a9239d20",
   "metadata": {},
   "outputs": [],
   "source": [
    "from timeit import default_timer as timer\n",
    "start = timer()\n",
    "for i in range(10): yolonasl()\n",
    "end = timer()"
   ]
  },
  {
   "cell_type": "code",
   "execution_count": 4,
   "id": "eb5bdf67",
   "metadata": {},
   "outputs": [],
   "source": [
    "latency[\"yolo_nas_l\"] = (end - start) / 10"
   ]
  },
  {
   "cell_type": "markdown",
   "id": "ca5bf611",
   "metadata": {},
   "source": [
    "# Yolo nas l onnx"
   ]
  },
  {
   "cell_type": "code",
   "execution_count": 5,
   "id": "2deca067",
   "metadata": {},
   "outputs": [],
   "source": [
    "import onnxruntime\n",
    "from PIL import Image\n",
    "import torchvision.transforms as transforms\n",
    "ort_session = onnxruntime.InferenceSession(\"../SoccerVision/Models/yolo_nas_l/yolo_nas_l_60epochs.onnx\", providers=[\"CPUExecutionProvider\"])\n",
    "img = Image.open(\"../test/foo.jpg\")\n",
    "resize = transforms.Resize([640, 640])\n",
    "img = resize(img)\n",
    "\n",
    "to_tensor = transforms.ToTensor()\n",
    "img = to_tensor(img)\n",
    "img.unsqueeze_(0)\n",
    "def to_numpy(tensor):\n",
    "    return tensor.detach().cpu().numpy() if tensor.requires_grad else tensor.cpu().numpy()"
   ]
  },
  {
   "cell_type": "code",
   "execution_count": 6,
   "id": "8b90374f",
   "metadata": {},
   "outputs": [],
   "source": [
    "def yolonasmonnx():\n",
    "    ort_inputs = {ort_session.get_inputs()[0].name: to_numpy(img)}\n",
    "    return ort_session.run(None, ort_inputs)"
   ]
  },
  {
   "cell_type": "code",
   "execution_count": 7,
   "id": "e8b336c5",
   "metadata": {},
   "outputs": [],
   "source": [
    "from timeit import default_timer as timer\n",
    "start = timer()\n",
    "for i in range(10): yolonasmonnx()\n",
    "end = timer()"
   ]
  },
  {
   "cell_type": "code",
   "execution_count": 8,
   "id": "bef57d2e",
   "metadata": {},
   "outputs": [],
   "source": [
    "latency[\"yolo_nas_l_onnx\"] = (end - start) / 10"
   ]
  },
  {
   "cell_type": "markdown",
   "id": "a8d49171",
   "metadata": {},
   "source": [
    "# RT-DETR"
   ]
  },
  {
   "cell_type": "code",
   "execution_count": 9,
   "id": "3f850a72",
   "metadata": {},
   "outputs": [
    {
     "data": {
      "text/plain": [
       "(673, 32970476, 0, 0)"
      ]
     },
     "execution_count": 9,
     "metadata": {},
     "output_type": "execute_result"
    }
   ],
   "source": [
    "from ultralytics import RTDETR\n",
    "\n",
    "# Load a COCO-pretrained RT-DETR-l model\n",
    "model = RTDETR('rtdetr-l.pt')\n",
    "# Display model information (optional)\n",
    "model.info()"
   ]
  },
  {
   "cell_type": "code",
   "execution_count": 10,
   "id": "3fdc746a",
   "metadata": {},
   "outputs": [],
   "source": [
    "def RTDETR():\n",
    "    results = model('../test/foo.jpg')\n",
    "    return results"
   ]
  },
  {
   "cell_type": "code",
   "execution_count": 11,
   "id": "8cff1bcc",
   "metadata": {},
   "outputs": [
    {
     "name": "stderr",
     "output_type": "stream",
     "text": [
      "rt-detr-l summary: 673 layers, 32970476 parameters, 0 gradients\n",
      "\n",
      "image 1/1 E:\\ML\\Soccer-Vision\\Notebooks\\..\\test\\foo.jpg: 640x640 4 0s, 2 32s, 76.0ms\n",
      "Speed: 4.0ms preprocess, 76.0ms inference, 1.5ms postprocess per image at shape (1, 3, 640, 640)\n",
      "\n",
      "image 1/1 E:\\ML\\Soccer-Vision\\Notebooks\\..\\test\\foo.jpg: 640x640 4 0s, 2 32s, 76.5ms\n",
      "Speed: 4.0ms preprocess, 76.5ms inference, 2.0ms postprocess per image at shape (1, 3, 640, 640)\n",
      "\n",
      "image 1/1 E:\\ML\\Soccer-Vision\\Notebooks\\..\\test\\foo.jpg: 640x640 4 0s, 2 32s, 33.5ms\n",
      "Speed: 3.0ms preprocess, 33.5ms inference, 1.0ms postprocess per image at shape (1, 3, 640, 640)\n",
      "\n",
      "image 1/1 E:\\ML\\Soccer-Vision\\Notebooks\\..\\test\\foo.jpg: 640x640 4 0s, 2 32s, 34.0ms\n",
      "Speed: 3.5ms preprocess, 34.0ms inference, 1.0ms postprocess per image at shape (1, 3, 640, 640)\n",
      "\n",
      "image 1/1 E:\\ML\\Soccer-Vision\\Notebooks\\..\\test\\foo.jpg: 640x640 4 0s, 2 32s, 33.5ms\n",
      "Speed: 3.5ms preprocess, 33.5ms inference, 1.5ms postprocess per image at shape (1, 3, 640, 640)\n",
      "\n",
      "image 1/1 E:\\ML\\Soccer-Vision\\Notebooks\\..\\test\\foo.jpg: 640x640 4 0s, 2 32s, 32.0ms\n",
      "Speed: 3.5ms preprocess, 32.0ms inference, 1.5ms postprocess per image at shape (1, 3, 640, 640)\n",
      "\n",
      "image 1/1 E:\\ML\\Soccer-Vision\\Notebooks\\..\\test\\foo.jpg: 640x640 4 0s, 2 32s, 35.5ms\n",
      "Speed: 3.5ms preprocess, 35.5ms inference, 1.0ms postprocess per image at shape (1, 3, 640, 640)\n",
      "\n",
      "image 1/1 E:\\ML\\Soccer-Vision\\Notebooks\\..\\test\\foo.jpg: 640x640 4 0s, 2 32s, 34.5ms\n",
      "Speed: 3.5ms preprocess, 34.5ms inference, 1.0ms postprocess per image at shape (1, 3, 640, 640)\n",
      "\n",
      "image 1/1 E:\\ML\\Soccer-Vision\\Notebooks\\..\\test\\foo.jpg: 640x640 4 0s, 2 32s, 33.5ms\n",
      "Speed: 3.5ms preprocess, 33.5ms inference, 1.5ms postprocess per image at shape (1, 3, 640, 640)\n",
      "\n"
     ]
    }
   ],
   "source": [
    "from timeit import default_timer as timer\n",
    "start = timer()\n",
    "for i in range(10): RTDETR()\n",
    "end = timer()"
   ]
  },
  {
   "cell_type": "code",
   "execution_count": 12,
   "id": "24f6faa6",
   "metadata": {},
   "outputs": [],
   "source": [
    " latency[\"RTDETR\"] = (end - start) / 10"
   ]
  },
  {
   "cell_type": "markdown",
   "id": "2ab5face",
   "metadata": {},
   "source": [
    "# YOLOV8"
   ]
  },
  {
   "cell_type": "code",
   "execution_count": 13,
   "id": "9a86e78a",
   "metadata": {},
   "outputs": [
    {
     "name": "stderr",
     "output_type": "stream",
     "text": [
      "image 1/1 E:\\ML\\Soccer-Vision\\Notebooks\\..\\test\\foo.jpg: 640x640 4 0s, 2 32s, 33.0ms\n",
      "Speed: 4.0ms preprocess, 33.0ms inference, 1.0ms postprocess per image at shape (1, 3, 640, 640)\n"
     ]
    }
   ],
   "source": [
    "from ultralytics import YOLO\n",
    "\n",
    "model = YOLO('yolov8l.pt')\n",
    "\n",
    "def YOLOV8():\n",
    "    results = model('../test/foo.jpg')\n",
    "    return results"
   ]
  },
  {
   "cell_type": "code",
   "execution_count": 14,
   "id": "38c90a0a",
   "metadata": {},
   "outputs": [
    {
     "name": "stderr",
     "output_type": "stream",
     "text": [
      "\n",
      "image 1/1 E:\\ML\\Soccer-Vision\\Notebooks\\..\\test\\foo.jpg: 384x640 4 persons, 1 sports ball, 146.4ms\n",
      "Speed: 2.0ms preprocess, 146.4ms inference, 1.5ms postprocess per image at shape (1, 3, 384, 640)\n",
      "\n",
      "image 1/1 E:\\ML\\Soccer-Vision\\Notebooks\\..\\test\\foo.jpg: 384x640 4 persons, 1 sports ball, 14.5ms\n",
      "Speed: 1.5ms preprocess, 14.5ms inference, 2.0ms postprocess per image at shape (1, 3, 384, 640)\n",
      "\n",
      "image 1/1 E:\\ML\\Soccer-Vision\\Notebooks\\..\\test\\foo.jpg: 384x640 4 persons, 1 sports ball, 15.0ms\n",
      "Speed: 1.5ms preprocess, 15.0ms inference, 2.0ms postprocess per image at shape (1, 3, 384, 640)\n",
      "\n",
      "image 1/1 E:\\ML\\Soccer-Vision\\Notebooks\\..\\test\\foo.jpg: 384x640 4 persons, 1 sports ball, 15.5ms\n",
      "Speed: 2.0ms preprocess, 15.5ms inference, 2.5ms postprocess per image at shape (1, 3, 384, 640)\n",
      "\n",
      "image 1/1 E:\\ML\\Soccer-Vision\\Notebooks\\..\\test\\foo.jpg: 384x640 4 persons, 1 sports ball, 15.0ms\n",
      "Speed: 2.0ms preprocess, 15.0ms inference, 2.1ms postprocess per image at shape (1, 3, 384, 640)\n",
      "\n",
      "image 1/1 E:\\ML\\Soccer-Vision\\Notebooks\\..\\test\\foo.jpg: 384x640 4 persons, 1 sports ball, 15.0ms\n",
      "Speed: 1.5ms preprocess, 15.0ms inference, 2.0ms postprocess per image at shape (1, 3, 384, 640)\n",
      "\n",
      "image 1/1 E:\\ML\\Soccer-Vision\\Notebooks\\..\\test\\foo.jpg: 384x640 4 persons, 1 sports ball, 15.5ms\n",
      "Speed: 1.5ms preprocess, 15.5ms inference, 2.0ms postprocess per image at shape (1, 3, 384, 640)\n",
      "\n"
     ]
    }
   ],
   "source": [
    "from timeit import default_timer as timer\n",
    "start = timer()\n",
    "for i in range(10): YOLOV8()\n",
    "end = timer()"
   ]
  },
  {
   "cell_type": "code",
   "execution_count": 15,
   "id": "bf6bd241",
   "metadata": {},
   "outputs": [],
   "source": [
    "latency[\"YOLOV8\"] = (end - start) / 10"
   ]
  },
  {
   "cell_type": "markdown",
   "id": "11c4d179",
   "metadata": {},
   "source": [
    "# Ploting results"
   ]
  },
  {
   "cell_type": "code",
   "execution_count": 16,
   "id": "91c6fe17",
   "metadata": {},
   "outputs": [
    {
     "data": {
      "image/png": "[encoded data removed]",
      "text/plain": [
       "<Figure size 640x480 with 1 Axes>"
      ]
     },
     "metadata": {},
     "output_type": "display_data"
    },
    {
     "name": "stderr",
     "output_type": "stream",
     "text": [
      "image 1/1 E:\\ML\\Soccer-Vision\\Notebooks\\..\\test\\foo.jpg: 384x640 4 persons, 1 sports ball, 19.0ms\n",
      "Speed: 1.5ms preprocess, 19.0ms inference, 2.5ms postprocess per image at shape (1, 3, 384, 640)\n",
      "\n",
      "image 1/1 E:\\ML\\Soccer-Vision\\Notebooks\\..\\test\\foo.jpg: 384x640 4 persons, 1 sports ball, 14.0ms\n",
      "Speed: 2.0ms preprocess, 14.0ms inference, 2.6ms postprocess per image at shape (1, 3, 384, 640)\n",
      "\n",
      "image 1/1 E:\\ML\\Soccer-Vision\\Notebooks\\..\\test\\foo.jpg: 384x640 4 persons, 1 sports ball, 8.5ms\n",
      "Speed: 1.5ms preprocess, 8.5ms inference, 1.5ms postprocess per image at shape (1, 3, 384, 640)\n"
     ]
    }
   ],
   "source": [
    "import matplotlib.pyplot as plt\n",
    "\n",
    "colors = list(\"rgbcmyk\")\n",
    "for x,y in latency.items():\n",
    "   plt.scatter(x,y,zorder=2,color=colors.pop())\n",
    "\n",
    "plt.plot(latency.values(),zorder=1,linewidth=0.5,color=\"b\")\n",
    "plt.ylabel(\"latency (s)\")\n",
    "plt.xlabel(\"model\")\n",
    "plt.legend(latency.keys())\n",
    "plt.show()"
   ]
  }
 ],
 "metadata": {
  "kernelspec": {
   "display_name": "Python 3 (ipykernel)",
   "language": "python",
   "name": "python3"
  },
  "language_info": {
   "codemirror_mode": {
    "name": "ipython",
    "version": 3
   },
   "file_extension": ".py",
   "mimetype": "text/x-python",
   "name": "python",
   "nbconvert_exporter": "python",
   "pygments_lexer": "ipython3",
   "version": "3.9.13"
  }
 },
 "nbformat": 4,
 "nbformat_minor": 5
}
